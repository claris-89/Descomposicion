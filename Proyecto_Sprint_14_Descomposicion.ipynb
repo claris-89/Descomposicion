{
 "cells": [
  {
   "cell_type": "markdown",
   "metadata": {},
   "source": [
    "# Hola &#x1F600;,\n",
    "\n",
    "Soy **Hesus Garcia** – , tu revisor de confianza, también conocido como **\"El Hesus que lleva la H de 'héroe' del código\" 🦸‍♂️**. Sí, soy el único Hesus con H que te ayudará a llevar tu trabajo al siguiente nivel. Estoy preparado con observaciones y sugerencias que harán que tu proyecto destaque y esté a la altura de las mejores prácticas en desarrollo. ¡Prepárate para mejorar y brillar en el mundo del código! 🚀\n",
    "\n",
    "Cada vez que encuentre un detalle importante en tu código, te lo señalaré para que puedas corregirlo y así te prepares para un ambiente de trabajo real, donde el líder de tu equipo actuaría de manera similar. Si en algún momento no logras solucionar el problema, te daré más detalles para ayudarte en nuestra próxima oportunidad de revisión.\n",
    "\n",
    "Es importante que cuando encuentres un comentario, **no los muevas, no los modifiques, ni los borres**.\n",
    "\n",
    "---\n",
    "\n",
    "### Formato de Comentarios\n",
    "\n",
    "Revisaré cuidadosamente cada implementación en tu notebook para asegurar que cumpla con los requisitos y te daré comentarios de acuerdo al siguiente formato:\n",
    "\n",
    "\n",
    "<div class=\"alert alert-block alert-success\">\n",
    "<b>Comentario del revisor</b> <a class=\"tocSkip\"></a><br>\n",
    "    \n",
    "<b>Éxito</b> - ¡Excelente trabajo! Esta parte está bien implementada y contribuye significativamente al análisis de datos o al proyecto. Continúa aplicando estas buenas prácticas en futuras secciones.\n",
    "    \n",
    "</div>\n",
    "\n",
    "<div class=\"alert alert-block alert-warning\">\n",
    "<b>Comentario del revisor</b> <a class=\"tocSkip\"></a><br>\n",
    "    \n",
    "<b>Atención</b> ⚠️ - Este código está correcto, pero se puede optimizar. Considera implementar mejoras para que sea más eficiente y fácil de leer. Esto fortalecerá la calidad de tu proyecto.\n",
    "    \n",
    "</div>\n",
    "\n",
    "<div class=\"alert alert-block alert-danger\">\n",
    "<b>Comentario del revisor</b> <a class=\"tocSkip\"></a><br>\n",
    "    \n",
    "<b>A resolver</b> ❗ - Aquí hay un problema o error en el código que es necesario corregir para aprobar esta sección. Por favor, revisa y corrige este punto, ya que es fundamental para la validez del análisis y la precisión de los resultados.\n",
    "    \n",
    "</div>\n",
    "\n",
    "---\n",
    "\n",
    "Al final de cada revisión, recibirás un **Comentario General del Revisor** que incluirá:\n",
    "\n",
    "- **Aspectos positivos:** Un resumen de los puntos fuertes de tu proyecto.\n",
    "- **Áreas de mejora:** Sugerencias sobre aspectos donde puedes mejorar.\n",
    "- **Temas adicionales para investigar:** Ideas de temas opcionales que puedes explorar por tu cuenta para desarrollar aún más tus habilidades.\n",
    "\n",
    "Estos temas adicionales no son obligatorios en esta etapa, pero pueden serte útiles para profundizar en el futuro.\n",
    "\n",
    "--- \n",
    "\n",
    "Esta estructura en viñetas facilita la lectura y comprensión de cada parte del comentario final.\n",
    "\n",
    "También puedes responderme de la siguiente manera si tienes alguna duda o quieres aclarar algo específico:\n",
    "\n",
    "\n",
    "<div class=\"alert alert-block alert-info\">\n",
    "<b>Respuesta del estudiante</b> <a class=\"tocSkip\"></a>\n",
    "    \n",
    "Aquí puedes escribir tu respuesta o pregunta sobre el comentario.\n",
    "    \n",
    "</div>\n"
   ]
  },
  {
   "cell_type": "markdown",
   "metadata": {},
   "source": [
    "# 1. Introducción\n",
    "\n",
    "El servicio de telefonía virtual CallMeMaybe está en proceso de desarrollar una innovadora función diseñada para proporcionar a los supervisores información detallada sobre los operadores menos eficaces. Un operador se considera ineficaz si presenta una gran cantidad de llamadas entrantes perdidas (internas y externas) y un tiempo de espera prolongado para las llamadas entrantes. Además, en los casos en los que se espera que un operador realice llamadas salientes, un número reducido de estas también se considera un signo de ineficacia.\n",
    "\n",
    "Para cumplir con este objetivo, se llevarán a cabo los siguientes pasos:\n",
    "\n",
    "Realizar un análisis exploratorio de datos.\n",
    "\n",
    "Identificar operadores ineficaces.\n",
    "\n",
    "Probar las hipótesis estadísticas.\n",
    "\n",
    "Este enfoque permitirá optimizar el rendimiento del servicio y asegurar que los supervisores dispongan de las herramientas necesarias para mejorar la eficacia operativa."
   ]
  },
  {
   "cell_type": "markdown",
   "metadata": {},
   "source": [
    "# 2. Objetivo \n",
    "\n",
    "Desarrollar una función para el servicio de telefonía virtual CallMeMaybe que permita a los supervisores identificar y evaluar la eficacia de los operadores. Esto se logrará a través de un análisis exploratorio de datos, la identificación de operadores ineficaces basados en métricas clave de rendimiento, y la prueba de hipótesis estadísticas. El objetivo final es optimizar el rendimiento operativo y mejorar la calidad del servicio al cliente mediante la implementación de herramientas que proporcionen información detallada y accionable sobre los operadores."
   ]
  },
  {
   "cell_type": "markdown",
   "metadata": {},
   "source": [
    "# 3.  Preprocesamiento de datos"
   ]
  },
  {
   "cell_type": "code",
   "execution_count": 1,
   "metadata": {},
   "outputs": [],
   "source": [
    "# Importación de librerias\n",
    "import pandas as pd"
   ]
  },
  {
   "cell_type": "code",
   "execution_count": 2,
   "metadata": {},
   "outputs": [],
   "source": [
    "# Lectura del dataset\n",
    "telecom_clients_us= pd.read_csv(\n",
    "    \"c:/Users/cary_/OneDrive/Escritorio/Data analyst/Sprint 14/telecom_clients_us.csv\", sep=\",\")\n",
    "\n",
    "telecom_dataset_us= pd.read_csv(\n",
    "    \"c:/Users/cary_/OneDrive/Escritorio/Data analyst/Sprint 14/telecom_dataset_us.csv\", sep=\",\")\n"
   ]
  },
  {
   "cell_type": "code",
   "execution_count": 3,
   "metadata": {},
   "outputs": [
    {
     "name": "stdout",
     "output_type": "stream",
     "text": [
      "<class 'pandas.core.frame.DataFrame'>\n",
      "RangeIndex: 732 entries, 0 to 731\n",
      "Data columns (total 3 columns):\n",
      " #   Column       Non-Null Count  Dtype \n",
      "---  ------       --------------  ----- \n",
      " 0   user_id      732 non-null    int64 \n",
      " 1   tariff_plan  732 non-null    object\n",
      " 2   date_start   732 non-null    object\n",
      "dtypes: int64(1), object(2)\n",
      "memory usage: 17.3+ KB\n",
      "\n",
      "\n",
      "<class 'pandas.core.frame.DataFrame'>\n",
      "RangeIndex: 53902 entries, 0 to 53901\n",
      "Data columns (total 9 columns):\n",
      " #   Column               Non-Null Count  Dtype  \n",
      "---  ------               --------------  -----  \n",
      " 0   user_id              53902 non-null  int64  \n",
      " 1   date                 53902 non-null  object \n",
      " 2   direction            53902 non-null  object \n",
      " 3   internal             53785 non-null  object \n",
      " 4   operator_id          45730 non-null  float64\n",
      " 5   is_missed_call       53902 non-null  bool   \n",
      " 6   calls_count          53902 non-null  int64  \n",
      " 7   call_duration        53902 non-null  int64  \n",
      " 8   total_call_duration  53902 non-null  int64  \n",
      "dtypes: bool(1), float64(1), int64(4), object(3)\n",
      "memory usage: 3.3+ MB\n"
     ]
    }
   ],
   "source": [
    "# Estudia tipo de datos del dataset\n",
    "telecom_clients_us.info()\n",
    "print(\"\\n\")\n",
    "telecom_dataset_us.info()"
   ]
  },
  {
   "cell_type": "markdown",
   "metadata": {},
   "source": [
    "Con la información observada en los datasets, se puede notar que algunas columnas no tienen los tipos de datos correctos. Lo primero será revisar los valores duplicados y ausentes para poder hacer las conversiones a los tipos de datos necesarios. A continuación, se usará una función que me ayudará a convertir algunos tipos de datos y reducir el tamaño de la memoria usada por ambos datasets."
   ]
  },
  {
   "cell_type": "code",
   "execution_count": 4,
   "metadata": {},
   "outputs": [
    {
     "name": "stdout",
     "output_type": "stream",
     "text": [
      "Duplicados totales para telecom_clients_us:  0\n",
      "Duplicados totales para telecom_dataset_us:  4900\n",
      "\n",
      "\n"
     ]
    }
   ],
   "source": [
    "# Revisar si existe algún valor duplicado\n",
    "print('Duplicados totales para telecom_clients_us: ', telecom_clients_us.duplicated().sum())\n",
    "print('Duplicados totales para telecom_dataset_us: ', telecom_dataset_us.duplicated().sum())\n",
    "print(\"\\n\")\n",
    "\n",
    "# Borrar valores duplicados\n",
    "telecom_dataset_us = telecom_dataset_us.drop_duplicates().reset_index(drop=True)"
   ]
  },
  {
   "cell_type": "markdown",
   "metadata": {},
   "source": [
    "En esta sección, los resultados muestran que existen valores ausentes en las columnas internal y operator_id. Dado que la columna internal solo contiene valores como True y False, utilizaré False para rellenar los valores ausentes. Para la columna operator_id, debido a que es información sensible y no tengo forma de consultar al ingeniero de datos sobre la información faltante, rellenaré los valores ausentes con 000000."
   ]
  },
  {
   "cell_type": "code",
   "execution_count": 15,
   "metadata": {},
   "outputs": [
    {
     "name": "stdout",
     "output_type": "stream",
     "text": [
      "Valores nulos totales para telecom_clients_us: \n",
      " user_id        0\n",
      "tariff_plan    0\n",
      "date_start     0\n",
      "dtype: int64\n",
      "\n",
      "\n",
      "Valores nulos totales para telecom_clients_us: \n",
      " user_id                0\n",
      "date                   0\n",
      "direction              0\n",
      "internal               0\n",
      "operator_id            0\n",
      "is_missed_call         0\n",
      "calls_count            0\n",
      "call_duration          0\n",
      "total_call_duration    0\n",
      "dtype: int64\n"
     ]
    }
   ],
   "source": [
    "# Revisar valores ausentes en cada dataset\n",
    "print(\"Valores nulos totales para telecom_clients_us: \\n\", telecom_clients_us.isna().sum())\n",
    "print(\"\\n\")\n",
    "print(\"Valores nulos totales para telecom_clients_us: \\n\", telecom_dataset_us.isna().sum())\n",
    "\n",
    "# Se usa el metodo fillna para rellenar valores ausentes\n",
    "telecom_dataset_us['internal'] = telecom_dataset_us['internal'].fillna(False)\n",
    "telecom_dataset_us['operator_id'] = telecom_dataset_us['operator_id'].fillna(False)"
   ]
  },
  {
   "cell_type": "code",
   "execution_count": 16,
   "metadata": {},
   "outputs": [
    {
     "name": "stdout",
     "output_type": "stream",
     "text": [
      "\n",
      "\n",
      "\n",
      "Valores nulos totales para telecom_clients_us: \n",
      " user_id                0\n",
      "date                   0\n",
      "direction              0\n",
      "internal               0\n",
      "operator_id            0\n",
      "is_missed_call         0\n",
      "calls_count            0\n",
      "call_duration          0\n",
      "total_call_duration    0\n",
      "dtype: int64\n"
     ]
    }
   ],
   "source": [
    "# Impresión para comprobar que los valores nulos ya no estan\n",
    "print(\"\\n\")\n",
    "print(\"\\nValores nulos totales para telecom_clients_us: \\n\", telecom_dataset_us.isna().sum())"
   ]
  },
  {
   "cell_type": "code",
   "execution_count": 6,
   "metadata": {},
   "outputs": [
    {
     "name": "stdout",
     "output_type": "stream",
     "text": [
      "   user_id tariff_plan  date_start\n",
      "0   166713           A  2019-08-15\n",
      "1   166901           A  2019-08-23\n",
      "2   168527           A  2019-10-29\n",
      "3   167097           A  2019-09-01\n",
      "4   168193           A  2019-10-16\n",
      "\n",
      "\n",
      "   user_id                       date direction  internal operator_id  \\\n",
      "0   166377  2019-08-04 00:00:00+03:00        in     False       False   \n",
      "1   166377  2019-08-05 00:00:00+03:00       out      True    880022.0   \n",
      "2   166377  2019-08-05 00:00:00+03:00       out      True    880020.0   \n",
      "3   166377  2019-08-05 00:00:00+03:00       out      True    880020.0   \n",
      "4   166377  2019-08-05 00:00:00+03:00       out     False    880022.0   \n",
      "\n",
      "   is_missed_call  calls_count  call_duration  total_call_duration  \n",
      "0            True            2              0                    4  \n",
      "1            True            3              0                    5  \n",
      "2            True            1              0                    1  \n",
      "3           False            1             10                   18  \n",
      "4            True            3              0                   25  \n"
     ]
    }
   ],
   "source": [
    "# Impresión de muestra de datos del dataset telecom_clients_us\n",
    "print(telecom_clients_us.head())\n",
    "\n",
    "print(\"\\n\")\n",
    "\n",
    "# Impresión de muestra de datos del dataset telecom_dataset_us\n",
    "print(telecom_dataset_us.head())"
   ]
  },
  {
   "cell_type": "code",
   "execution_count": null,
   "metadata": {},
   "outputs": [
    {
     "name": "stdout",
     "output_type": "stream",
     "text": [
      "     user_id tariff_plan  date_start\n",
      "0     166713           A  2019-08-15\n",
      "1     166901           A  2019-08-23\n",
      "2     168527           A  2019-10-29\n",
      "3     167097           A  2019-09-01\n",
      "4     168193           A  2019-10-16\n",
      "..       ...         ...         ...\n",
      "727   166554           B  2019-08-08\n",
      "728   166911           B  2019-08-23\n",
      "729   167012           B  2019-08-28\n",
      "730   166867           B  2019-08-22\n",
      "731   166565           B  2019-08-08\n",
      "\n",
      "[732 rows x 3 columns]\n",
      "\n",
      "\n",
      "       user_id                       date direction  internal operator_id  \\\n",
      "0       166377  2019-08-04 00:00:00+03:00        in     False       False   \n",
      "1       166377  2019-08-05 00:00:00+03:00       out      True    880022.0   \n",
      "2       166377  2019-08-05 00:00:00+03:00       out      True    880020.0   \n",
      "3       166377  2019-08-05 00:00:00+03:00       out      True    880020.0   \n",
      "4       166377  2019-08-05 00:00:00+03:00       out     False    880022.0   \n",
      "...        ...                        ...       ...       ...         ...   \n",
      "48997   168606  2019-11-10 00:00:00+03:00       out      True    957922.0   \n",
      "48998   168606  2019-11-10 00:00:00+03:00       out      True    957922.0   \n",
      "48999   168606  2019-11-11 00:00:00+03:00       out      True    957922.0   \n",
      "49000   168606  2019-11-15 00:00:00+03:00       out      True    957922.0   \n",
      "49001   168606  2019-11-19 00:00:00+03:00        in     False       False   \n",
      "\n",
      "       is_missed_call  calls_count  call_duration  total_call_duration  \n",
      "0                True            2              0                    4  \n",
      "1                True            3              0                    5  \n",
      "2                True            1              0                    1  \n",
      "3               False            1             10                   18  \n",
      "4                True            3              0                   25  \n",
      "...               ...          ...            ...                  ...  \n",
      "48997           False            1              0                   25  \n",
      "48998            True            1              0                   38  \n",
      "48999           False            2            479                  501  \n",
      "49000           False            4           3130                 3190  \n",
      "49001            True            2              0                   64  \n",
      "\n",
      "[49002 rows x 9 columns]\n"
     ]
    }
   ],
   "source": [
    "# Función para convertir los tipos datos de ambos datasets y bajar el tamaño de la memoria usada\n",
    "def downcast_dtypes(df):\n",
    "    float_cols = df.select_dtypes(\"float\").columns\n",
    "    int_cols = df.select_dtypes(\"integer\").columns\n",
    "\n",
    "    df[float_cols] = df[float_cols].apply(pd.to_numeric, downcast=\"float\")\n",
    "    df[int_cols] = df[int_cols].apply(pd.to_numeric, downcast=\"integer\")\n",
    "\n",
    "    return df\n",
    "\n",
    "# Aplicación de la funcion a ambos datasets\n",
    "print(downcast_dtypes(telecom_clients_us))\n",
    "print(\"\\n\")\n",
    "print(downcast_dtypes(telecom_dataset_us))"
   ]
  },
  {
   "cell_type": "markdown",
   "metadata": {},
   "source": [
    "Después de aplicar la función, se puede observar que aún existen algunas columnas que es necesario convertir. En cuanto a los nombres de las columnas, no será necesario hacer cambios ya que todas están en minúsculas, tienen nombres descriptivos y siguen el formato snake case."
   ]
  },
  {
   "cell_type": "code",
   "execution_count": 8,
   "metadata": {},
   "outputs": [
    {
     "name": "stdout",
     "output_type": "stream",
     "text": [
      "<class 'pandas.core.frame.DataFrame'>\n",
      "RangeIndex: 732 entries, 0 to 731\n",
      "Data columns (total 3 columns):\n",
      " #   Column       Non-Null Count  Dtype \n",
      "---  ------       --------------  ----- \n",
      " 0   user_id      732 non-null    int32 \n",
      " 1   tariff_plan  732 non-null    object\n",
      " 2   date_start   732 non-null    object\n",
      "dtypes: int32(1), object(2)\n",
      "memory usage: 14.4+ KB\n",
      "\n",
      "\n",
      "<class 'pandas.core.frame.DataFrame'>\n",
      "RangeIndex: 49002 entries, 0 to 49001\n",
      "Data columns (total 9 columns):\n",
      " #   Column               Non-Null Count  Dtype \n",
      "---  ------               --------------  ----- \n",
      " 0   user_id              49002 non-null  int32 \n",
      " 1   date                 49002 non-null  object\n",
      " 2   direction            49002 non-null  object\n",
      " 3   internal             49002 non-null  bool  \n",
      " 4   operator_id          49002 non-null  object\n",
      " 5   is_missed_call       49002 non-null  bool  \n",
      " 6   calls_count          49002 non-null  int16 \n",
      " 7   call_duration        49002 non-null  int32 \n",
      " 8   total_call_duration  49002 non-null  int32 \n",
      "dtypes: bool(2), int16(1), int32(3), object(3)\n",
      "memory usage: 1.9+ MB\n"
     ]
    }
   ],
   "source": [
    "telecom_clients_us.info()\n",
    "print(\"\\n\")\n",
    "telecom_dataset_us.info()"
   ]
  },
  {
   "cell_type": "code",
   "execution_count": null,
   "metadata": {},
   "outputs": [],
   "source": [
    "# Conversión de tipos de datos\n",
    "\n",
    "# Se convierte a tipo fecha la columna date_start del dataset telecom_clients_us\n",
    "telecom_clients_us['date_start'] = pd.to_datetime(telecom_clients_us['date_start'])\n",
    "\n",
    "# Se convierte a tipo category columna tariff_plan del dataset telecom_clients_us\n",
    "telecom_clients_us['tariff_plan'] = telecom_clients_us['tariff_plan'].astype('category')\n",
    "\n",
    "# Se convierte a tipo fecha la columna date_start del dataset telecom_clients_us\n",
    "telecom_dataset_us['date'] = pd.to_datetime(telecom_dataset_us['date'])\n",
    "\n",
    "# Se convierte a tipo bool columna internal del dataset telecom_dataset_us\n",
    "telecom_dataset_us['internal'] = telecom_dataset_us['internal'].astype('bool')\n",
    "\n",
    "# Se convierte a tipo int64 columna operator_id del dataset telecom_dataset_us\n",
    "telecom_dataset_us['operator_id'] = telecom_dataset_us['operator_id'].astype('int64')\n"
   ]
  },
  {
   "cell_type": "markdown",
   "metadata": {},
   "source": [
    "# 4. Proponer hipótesis\n",
    "\n",
    "Hipótesis: Relación entre el Número de Llamadas Perdidas y la Eficacia del Operador\n",
    "\n",
    "Hipótesis Nula: No existe una relación significativa entre la cantidad de llamadas entrantes perdidas y la eficacia del operador.\n",
    "\n",
    "Hipótesis Alternativa: Existe una relación significativa entre la cantidad de llamadas entrantes perdidas y la eficacia del operador. Un mayor número de llamadas perdidas está asociado con una menor eficacia del operador."
   ]
  },
  {
   "cell_type": "markdown",
   "metadata": {},
   "source": [
    "# 5. Análisis exploratorio de datos"
   ]
  },
  {
   "cell_type": "markdown",
   "metadata": {},
   "source": [
    "### Plan de acción para llegar al objetivo de identificar a los operadores ineficaces\n",
    "1. Analizar la relación entre número de llamadas, duración de llamadas por operador, llamadas perdidas para cada operador.\n",
    "2. Identificar la relacion entre el numero de llamadas y la duracion de la llamada.\n",
    "3. Comparar el tiempo de duracion de las llamadas para cada operador.\n",
    "4. Crear gráficos y visualizaciones para identificar patrones y tendencias en las llamadas de los operadores.\n",
    "5. Determinar las métricas clave para definir la ineficacia de los operadores (por ejemplo, llamadas perdidas, tiempo de espera, número de llamadas salientes)\n",
    "6. Identificar y clasificar a los operadores ineficaces según las métricas definidas.\n",
    "7. Determinar las pruebas estadísticas apropiadas para cada hipótesis.\n",
    "8. Interpretar los resultados de las pruebas estadísticas y sacar conclusiones basadas en los datos.\n",
    "9. Documentar los hallazgos y análisis en un informe claro y detallado.\n",
    "10. Crear presentaciones visuales que resuman los principales hallazgos y recomendaciones."
   ]
  },
  {
   "cell_type": "markdown",
   "metadata": {},
   "source": [
    "# 6. Conclusion "
   ]
  },
  {
   "cell_type": "markdown",
   "metadata": {},
   "source": [
    "<div class=\"alert alert-block alert-warning\"> <b>Comentario del revisor</b> <a class=\"tocSkip\"></a>\n",
    "    \n",
    "Hola, ¡gracias por compartir tu trabajo inicial! Quiero hacerte algunas preguntas y sugerencias para avanzar en este proyecto de manera más clara y estructurada, **ya que se esperaba un plan que incluyera descripciones más específicas** :\n",
    "\n",
    "1. **Datos:**  \n",
    "   ¿Ya tienes los datos con los que trabajarás? Si no es así, sería importante cargarlos en este notebook para poder visualizarlos. Si ya los tienes, asegúrate de incluir una tabla que muestre los datos ya cargados en esta sección para que podamos comprender mejor el contenido y las posibles necesidades de preprocesamiento. **Recuerda que el dataset debes pedirlo a tu tutor o community manager**\n",
    "\n",
    "2. **Objetivo y Plan de Acción:**  \n",
    "   Es fundamental ser explícito en el objetivo del proyecto. Por favor, define qué quieres lograr y cómo las hipótesis propuestas contribuirán a alcanzar este objetivo. Posteriormente, en el plan de acción, incluye las técnicas que aplicarás para atender esas hipótesis (por ejemplo, técnicas de limpieza, transformación o análisis de datos).\n",
    "\n",
    "3. **Preprocesamiento:**  \n",
    "   En esta sección, sería importante:\n",
    "   - Mostrar si los datos contienen valores nulos o outliers.\n",
    "   - Describir cómo planeas manejar estos problemas.\n",
    "   - Realizar pasos básicos como renombrar columnas, convertir tipos de datos y eliminar duplicados.  \n",
    "   Es ideal que detalles estas acciones dentro de un plan claro.\n",
    "\n",
    "4. **Próximos pasos:**  \n",
    "   Una vez que hayas identificado los problemas en los datos (nulos, outliers, etc.), describe cómo abordarás estas necesidades en un plan explícito. Esto nos ayudará a conectar el preprocesamiento con el objetivo general del proyecto.\n",
    "\n",
    "---\n",
    "\n",
    "### **Acciones Sugeridas:**\n",
    "- Carga los datos en este notebook.\n",
    "- Realiza un análisis inicial de los datos, incluyendo tipos, valores nulos, y cualquier otro problema de calidad.\n",
    "- Basándote en el análisis, escribe un plan de proyecto donde expliques cómo planeas alcanzar el objetivo utilizando técnicas específicas.\n",
    "\n",
    "¡Espero tus avances! Si necesitas ayuda con algún paso, no dudes en preguntar. 😊\n",
    "</div>"
   ]
  }
 ],
 "metadata": {
  "ExecuteTimeLog": [
   {
    "duration": 3,
    "start_time": "2024-12-08T18:26:55.358Z"
   },
   {
    "duration": 3,
    "start_time": "2024-12-08T18:46:00.621Z"
   },
   {
    "duration": 2,
    "start_time": "2024-12-08T18:46:00.627Z"
   },
   {
    "duration": 2,
    "start_time": "2024-12-08T18:46:00.631Z"
   },
   {
    "duration": 2,
    "start_time": "2024-12-08T18:46:00.635Z"
   },
   {
    "duration": 2,
    "start_time": "2024-12-08T18:46:00.639Z"
   },
   {
    "duration": 2,
    "start_time": "2024-12-08T18:46:00.643Z"
   },
   {
    "duration": 2,
    "start_time": "2024-12-08T18:46:00.647Z"
   },
   {
    "duration": 2,
    "start_time": "2024-12-08T18:46:00.651Z"
   }
  ],
  "kernelspec": {
   "display_name": "myenv",
   "language": "python",
   "name": "python3"
  },
  "language_info": {
   "codemirror_mode": {
    "name": "ipython",
    "version": 3
   },
   "file_extension": ".py",
   "mimetype": "text/x-python",
   "name": "python",
   "nbconvert_exporter": "python",
   "pygments_lexer": "ipython3",
   "version": "3.12.4"
  },
  "toc": {
   "base_numbering": 1,
   "nav_menu": {},
   "number_sections": true,
   "sideBar": true,
   "skip_h1_title": true,
   "title_cell": "Table of Contents",
   "title_sidebar": "Contents",
   "toc_cell": false,
   "toc_position": {},
   "toc_section_display": true,
   "toc_window_display": false
  }
 },
 "nbformat": 4,
 "nbformat_minor": 2
}
